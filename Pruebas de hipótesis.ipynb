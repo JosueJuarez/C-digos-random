{
 "cells": [
  {
   "cell_type": "markdown",
   "id": "80297e92-6ba9-4b45-8efa-3a6eec52d72d",
   "metadata": {},
   "source": [
    "# Pruebas de Hipótesis\n",
    "Josué\n",
    "\n",
    "---"
   ]
  },
  {
   "cell_type": "markdown",
   "id": "c02ae59f-2ace-432d-aabd-884565ffe18a",
   "metadata": {},
   "source": [
    "**Def 1.**\n",
    "\n",
    "Una hipótesis estadı́stica es una afirmación o conjetura con respecto a\n",
    "alguna caracterı́stica de una o más variables aleatorias. La afirmación\n",
    "involucra ya sea algún parámetro o alguna forma funcional no conocida de\n",
    "la distribución de interés."
   ]
  },
  {
   "cell_type": "markdown",
   "id": "9a3daf26-27ba-4d4d-bd7c-63c08bdb0951",
   "metadata": {},
   "source": [
    "**Def 2.**\n",
    "\n",
    "Una prueba de una hipótesis estadı́stica $H$ es una regla o procedimiento\n",
    "para decidir si se rechaza o no H."
   ]
  },
  {
   "cell_type": "markdown",
   "id": "c6fc7978-0ea7-44b6-a4bc-743b8cbad2f7",
   "metadata": {},
   "source": [
    "**Ejemplo:**\n",
    "\n",
    "$\\underline{X} = (X_1, X_2, X_3, \\ldots, X_n)$ es una m.a i.i.d de una distribución que depende de un parámetro $\\theta \\in \\Theta$.\n",
    "Consideramos las hipótesis:\n",
    "$$ H_0: \\, \\theta \\in \\Theta_0, \\, \\Theta_0 \\subset \\Theta.$$\n",
    "\n",
    "En contraste a:\n",
    "$$ H_1: \\, \\theta \\in \\Theta - \\Theta_0.$$"
   ]
  },
  {
   "cell_type": "markdown",
   "id": "4f2c2279-fe06-4c0b-997d-0b7788c93327",
   "metadata": {
    "tags": []
   },
   "source": [
    "$H_0$ es la hipótesis a contrastar, se le nombra hipótesis nula. Representa la hipótesis que mantendremos a no ser que los datos indiquen su falsedad."
   ]
  },
  {
   "cell_type": "markdown",
   "id": "b47b1eb0-21a0-4013-9caa-2134c61567ed",
   "metadata": {},
   "source": [
    "Supongamos que $\\underline{X}$ toma valores en $\\Gamma$\n",
    "\n",
    "**Def 3.**\n",
    "\n",
    "Una prueba de hipótesis será una partición de $\\Gamma$ en dos conjuntos $\\Gamma_R$, $\\Gamma_A$ tales que,\n",
    "\n",
    "- $\\Gamma = \\Gamma_R \\cup \\Gamma_A$, $\\Gamma_R \\cap \\Gamma_A = \\Phi$.\n",
    "- si $\\underline{x} \\in \\Gamma_R$, entoces, rechazamos $H_0$.\n",
    "- si $\\underline{x} \\in \\Gamma_A$, entoces, no rechazamos $H_0$."
   ]
  },
  {
   "cell_type": "markdown",
   "id": "55aa8e72-c651-45fd-a3d8-e00bbaab4fcc",
   "metadata": {},
   "source": [
    "**Def 4.**\n",
    "\n",
    "Cualquier función $\\phi: \\Gamma \\rightarrow \\{0,1\\}$ se llama *\"función de prueba\"*.\n",
    "\n",
    "Su correspondiente prueba de hipótesis es\n",
    "- rechazar $H_0$ si $\\phi(\\underline{x}) = 1$,\n",
    "- no rechazar $H_0$ si $\\phi(\\underline{x}) = 0$.\n",
    "\n",
    "De esta forma $\\Gamma_R = \\{ \\underline{x} \\,|\\, \\phi(\\underline{x}) = 1 \\}$ y $\\Gamma_A = \\{ \\underline{x} \\,|\\, \\phi(\\underline{x}) = 0 \\}$"
   ]
  },
  {
   "cell_type": "markdown",
   "id": "263a6aee-fcb4-4da9-b487-8b5d313f0dfa",
   "metadata": {},
   "source": [
    "- Problema: Escoger la mejor función de prueba."
   ]
  },
  {
   "cell_type": "markdown",
   "id": "3d0b3e2d-302b-4abe-82d8-f9d096f8d595",
   "metadata": {},
   "source": [
    "Al usar una función de prueba $\\phi$, se pueden cometer dos tipos de errores:\n",
    "- Error de Tipo I: Rechazar $H_0$ cuando es verdadera.\n",
    "- Error de Tipo II: No Rechazar $H_0$ cuando es falsa.\n",
    "\n",
    "|                 | Aceptar $H_0$                  | Aceptar $H_1$                 |\n",
    "|-----------------|--------------------------------|-------------------------------|\n",
    "| $H_0$ es cierta | Correcto                       | Error tipo I (falso positivo) |\n",
    "| $H_1$ es cierta | Error tipo II (falso negativo) | Correcto                      |\n",
    "\n",
    "Tenemos las siguientes probabilidades:\n",
    "\n",
    "$$P_{FP} = \\mathbb{P}(\\phi(\\underline{X}) = 1 \\,|\\, H_0);$$\n",
    "$$P_{FN} = \\mathbb{P}(\\phi(\\underline{X}) = 0 \\,|\\, H_1);$$\n",
    "$$P_{D} = 1 - P_{FN} =  \\mathbb{P}(\\phi(\\underline{X}) = 1 \\,|\\, H_1);$$\n",
    "\n",
    "$P_D$ es la probabilidad de aceptar $H_1$ cuando la prueba cuando resulta que $H_1$ es cierto."
   ]
  },
  {
   "cell_type": "markdown",
   "id": "454b49e6-51f3-4a7a-a06a-d876224ce07d",
   "metadata": {},
   "source": [
    "- Problema: minimizar las probabilidades de estos errores."
   ]
  },
  {
   "cell_type": "markdown",
   "id": "ca9412d7-a9e4-4b1e-8073-df02ad3fe242",
   "metadata": {},
   "source": [
    "**Def 5.**\n",
    "\n",
    "Sea $\\alpha \\in [0,1]$. Las pruebas $\\phi$ tales que:\n",
    "$$ \\mathbb{P}(\\phi(\\underline{X}) = 1 \\,|\\, \\theta) \\leq \\alpha, \\; \\forall \\theta \\in \\Theta_0.$$\n",
    "Se dice que son pruebas de tamaño $\\alpha$."
   ]
  },
  {
   "cell_type": "markdown",
   "id": "3bf74638-f9d1-4b6e-bf69-6936ca918bac",
   "metadata": {},
   "source": [
    "- Problema: encontrtar la mejor prueba de tamaño $\\alpha$"
   ]
  },
  {
   "cell_type": "markdown",
   "id": "aa9137a7-6b9a-484a-9d9a-9f6a3538dc5a",
   "metadata": {},
   "source": [
    "**Def 6.**\n",
    "\n",
    "La función $\\delta_{\\phi}: \\Theta \\rightarrow [0,1]$ como\n",
    "\\begin{align}\n",
    "\\delta_{\\phi}(\\theta) &= \\mathbb{P}(\\text{rechazar} \\, H_0 \\, \\text{usando} \\, \\phi \\,|\\, \\theta)\\\\\n",
    "&= \\mathbb{P}(\\phi(\\underline{X}) = 1 \\,|\\, \\theta)\\\\\n",
    "&= \\mathbb{E}_{\\theta}(\\phi(\\underline{X})).\n",
    "\\end{align}"
   ]
  },
  {
   "cell_type": "markdown",
   "id": "c460fad5-7fd7-4363-9df2-a56bbdf8736b",
   "metadata": {},
   "source": [
    "Una prueba $\\phi$ es de tamaño $\\alpha$ si:\n",
    "$$\\sup_{\\theta \\in \\Theta_0} \\delta_{\\phi}(\\theta) \\leq \\alpha.$$\n",
    "\n",
    "$\\alpha$ recibe el nombre de *significancia estadística*. Es tal que, la probabilidad de cometer un error del tipo 1, es menor que $\\alpha$."
   ]
  },
  {
   "cell_type": "markdown",
   "id": "92f3a608-1472-447d-8035-2834c51a0da3",
   "metadata": {},
   "source": [
    "- Solución al problema: encontrar la prueba (si es que existe) que maximiza uniformemente la función de potencia $\\delta_{\\phi}(\\theta)$."
   ]
  },
  {
   "cell_type": "markdown",
   "id": "c8768b7d-bb30-4d27-8658-2b57336ef786",
   "metadata": {},
   "source": [
    "## Ejemplo\n",
    "\n",
    "Consideramos el experimento de lanzar una moneda, cuya distribución es tipo Bernoulli con parámetro $\\theta$ desconocido.\n",
    "Queremos responder la pregunta: ¿es la probabilidad de cara mayor o menor que un medio?\n",
    "\n",
    "Supongamos las hipótesis\n",
    "$$H_0: \\theta < \\frac{1}{2}$$\n",
    "y\n",
    "$$H_1: \\theta > \\frac{1}{2}$$\n",
    "\n",
    "Usamos como criterio el número de caras observadas en cinco lanzamientos. Escogemos $H_1$ solamente si exactamente cinco de las cinco observaciones son caras **all-heads test**:\n",
    "\n",
    "Si $X_i = 1$ el resultado del experimento es cara, $X_i = 0$ si es sol.\n",
    "\n",
    "$$G(\\underline{X}) := \\sum_{i=1}^{5} x_i$$\n",
    "\n",
    "\\begin{equation}\n",
    "\\phi(\\underline{X}) = \n",
    "\\begin{cases}\n",
    "    1 & \\text{si }~~ G(\\underline{X}) = 5, \\\\\n",
    "    0 & \\text{si }~~ G(\\underline{X}) < 5.\n",
    "\\end{cases}\n",
    "\\end{equation}\n",
    "\n",
    "de esta forma\n",
    "\n",
    "$$\\delta_{\\phi}(\\theta) = \\mathbb{P}(\\phi(\\underline{X}) = 1 \\,|\\, \\theta) = \\theta^5,$$\n",
    "\n",
    "$$\\sup_{\\theta < 1/2} \\delta_{\\phi}(\\theta) \\leq \\left(\\frac{1}{2}\\right)^5 = 0.03125.$$\n",
    "\n",
    "observamos que si\n",
    "\n",
    "$$0.9 = \\theta^5,$$\n",
    "entonces"
   ]
  },
  {
   "cell_type": "code",
   "execution_count": 1,
   "id": "01a2073c-6348-490a-99f7-8dc7ba699259",
   "metadata": {
    "tags": []
   },
   "outputs": [
    {
     "name": "stdout",
     "output_type": "stream",
     "text": [
      "0.9791483623609768\n"
     ]
    }
   ],
   "source": [
    "print(0.9**(1/5))"
   ]
  },
  {
   "cell_type": "markdown",
   "id": "e54ac6cf-5cc2-4c64-b0f2-9d1ba1e548d1",
   "metadata": {},
   "source": [
    "$P_D > 0.9$ para valores de $\\theta > 0.98$"
   ]
  },
  {
   "cell_type": "markdown",
   "id": "ca349821-e02f-4902-8855-d7ca4d7842cc",
   "metadata": {},
   "source": [
    "## Ejemplo 2\n",
    "\n",
    "Ahora escogemos $H_1$ cuando la mayoria de las observaciones son caras, **majority vote test**:\n",
    "\n",
    "\\begin{equation}\n",
    "\\phi(\\underline{X}) = \n",
    "\\begin{cases}\n",
    "    1 & \\text{si }~~ G(\\underline{X}) \\geq 3, \\\\\n",
    "    0 & \\text{si }~~ G(\\underline{X}) < 2.\n",
    "\\end{cases}\n",
    "\\end{equation}"
   ]
  },
  {
   "cell_type": "markdown",
   "id": "2ffc835c-2ac8-45e2-be64-f042757adb7f",
   "metadata": {
    "tags": []
   },
   "source": [
    "$$\\delta_{\\phi}(\\theta) = \\mathbb{P}(\\phi(\\underline{X}) = 1 \\,|\\, \\theta) = \\sum_{k=3}^{5} C(5,k) \\theta^k (1-\\theta)^{5-k}$$\n",
    "\n",
    "$$\\sup_{\\theta < 1/2} \\delta_{\\phi}(\\theta) \\leq \\sup_{\\theta < 1/2} \\theta^5 + 5\\theta^4(1-\\theta) + 10\\theta^3(1-\\theta)^2 = \\frac{1}{2}$$"
   ]
  },
  {
   "cell_type": "code",
   "execution_count": 2,
   "id": "34dc75fc-bb5d-49c1-ada2-a7c15c74082c",
   "metadata": {
    "tags": []
   },
   "outputs": [],
   "source": [
    "import numpy as np\n",
    "import matplotlib.pyplot as plt"
   ]
  },
  {
   "cell_type": "code",
   "execution_count": 3,
   "id": "ee82d3d4-335b-46e1-a9e4-cf0361547f47",
   "metadata": {
    "tags": []
   },
   "outputs": [
    {
     "data": {
      "image/png": "[encoded data removed]",
      "text/plain": [
       "<Figure size 640x480 with 1 Axes>"
      ]
     },
     "metadata": {},
     "output_type": "display_data"
    }
   ],
   "source": [
    "theta = np.linspace(0,1)\n",
    "delta2 = theta**5 + 5*(theta**4)*(1-theta) + 10*(theta**3)*(1-theta)**2\n",
    "\n",
    "plt.figure()\n",
    "plt.plot(theta,theta**5,label=r\"$\\delta_{1}$\")\n",
    "plt.plot(theta,delta2,label=r\"$\\delta_{2}$\")\n",
    "plt.scatter(0.5,(0.5)**5)\n",
    "plt.scatter(0.5,0.5)\n",
    "\n",
    "plt.xlabel(r\"$\\theta$\")\n",
    "plt.ylabel(r\"$\\delta_{1},\\delta_{2}$\")\n",
    "plt.legend(loc='best')\n",
    "plt.show()"
   ]
  },
  {
   "cell_type": "markdown",
   "id": "265ff909-e813-4e4a-aa64-9b3e75942d23",
   "metadata": {},
   "source": [
    "## Continuación Ejemplo 2\n",
    "\n",
    "Aumentamos el número de experimentos a $n=100$ y escogemos $H_1$ cuando el número de observaciones caras son más de $60$:\n",
    "\n",
    "\\begin{equation}\n",
    "\\phi(\\underline{X}) = \n",
    "\\begin{cases}\n",
    "    1 & \\text{si }~~ G(\\underline{X}) \\geq 60, \\\\\n",
    "    0 & \\text{si }~~ G(\\underline{X}) < 59.\n",
    "\\end{cases}\n",
    "\\end{equation}\n"
   ]
  },
  {
   "cell_type": "markdown",
   "id": "f344af44-77d6-43ad-86f6-9efc6f16fe55",
   "metadata": {},
   "source": [
    "$$\\delta_{\\phi}(\\theta) = \\mathbb{P}(\\phi(\\underline{X}) = 1 \\,|\\, \\theta) = \\sum_{k=60}^{100} C(100,k) \\theta^k (1-\\theta)^{100-k}$$"
   ]
  },
  {
   "cell_type": "code",
   "execution_count": 4,
   "id": "a8fdf3f3-bf56-40d0-ae81-caeb62e10a2b",
   "metadata": {
    "tags": []
   },
   "outputs": [],
   "source": [
    "from sympy.stats import P, Binomial\n",
    "import sympy as S"
   ]
  },
  {
   "cell_type": "code",
   "execution_count": 5,
   "id": "f0454f10-5564-43b2-a70b-c26a6f6a1030",
   "metadata": {
    "tags": []
   },
   "outputs": [],
   "source": [
    "theta = S.symbols('theta',real=True)\n",
    "X = Binomial('x',100,theta)\n",
    "delta3 = P(X>60)"
   ]
  },
  {
   "cell_type": "code",
   "execution_count": 6,
   "id": "010ac2b3-9537-42a8-9714-358f27e73d94",
   "metadata": {
    "tags": []
   },
   "outputs": [
    {
     "name": "stdout",
     "output_type": "stream",
     "text": [
      "theta**100 + 100*theta**99*(1 - theta) + 4950*theta**98*(1 - theta)**2 + 161700*theta**97*(1 - theta)**3 + 3921225*theta**96*(1 - theta)**4 + 75287520*theta**95*(1 - theta)**5 + 1192052400*theta**94*(1 - theta)**6 + 16007560800*theta**93*(1 - theta)**7 + 186087894300*theta**92*(1 - theta)**8 + 1902231808400*theta**91*(1 - theta)**9 + 17310309456440*theta**90*(1 - theta)**10 + 141629804643600*theta**89*(1 - theta)**11 + 1050421051106700*theta**88*(1 - theta)**12 + 7110542499799200*theta**87*(1 - theta)**13 + 44186942677323600*theta**86*(1 - theta)**14 + 253338471349988640*theta**85*(1 - theta)**15 + 1345860629046814650*theta**84*(1 - theta)**16 + 6650134872937201800*theta**83*(1 - theta)**17 + 30664510802988208300*theta**82*(1 - theta)**18 + 132341572939212267400*theta**81*(1 - theta)**19 + 535983370403809682970*theta**80*(1 - theta)**20 + 2041841411062132125600*theta**79*(1 - theta)**21 + 7332066885177656269200*theta**78*(1 - theta)**22 + 24865270306254660391200*theta**77*(1 - theta)**23 + 79776075565900368755100*theta**76*(1 - theta)**24 + 242519269720337121015504*theta**75*(1 - theta)**25 + 699574816500972464467800*theta**74*(1 - theta)**26 + 1917353200780443050763600*theta**73*(1 - theta)**27 + 4998813702034726525205100*theta**72*(1 - theta)**28 + 12410847811948286545336800*theta**71*(1 - theta)**29 + 29372339821610944823963760*theta**70*(1 - theta)**30 + 66324638306863423796047200*theta**69*(1 - theta)**31 + 143012501349174257560226775*theta**68*(1 - theta)**32 + 294692427022540894366527900*theta**67*(1 - theta)**33 + 580717429720889409486981450*theta**66*(1 - theta)**34 + 1095067153187962886461165020*theta**65*(1 - theta)**35 + 1977204582144932989443770175*theta**64*(1 - theta)**36 + 3420029547493938143902737600*theta**63*(1 - theta)**37 + 5670048986634686922786117600*theta**62*(1 - theta)**38 + 9013924030034630492634340800*theta**61*(1 - theta)**39\n"
     ]
    }
   ],
   "source": [
    "print(delta3)"
   ]
  },
  {
   "cell_type": "code",
   "execution_count": 7,
   "id": "673072c0-f1ac-4dd1-9433-ae895ddbd810",
   "metadata": {
    "tags": []
   },
   "outputs": [
    {
     "name": "stdout",
     "output_type": "stream",
     "text": [
      "alpha = 0.0176001001088524\n"
     ]
    }
   ],
   "source": [
    "print(\"alpha =\",delta3.subs(theta,0.5)) # alpha, el supremo se va a dar para theta = 1/2"
   ]
  },
  {
   "cell_type": "markdown",
   "id": "a31f94aa-8ab1-4c82-8e93-72a0724f50e2",
   "metadata": {},
   "source": [
    "Si aceptamos $H_1$ cuando el número de observaciones caras son más de $60$ en cien experimentos. Entonces declaramos $H_1$ erróneamente aproximadamente $1.8\\%$ del tiempo."
   ]
  },
  {
   "cell_type": "code",
   "execution_count": 8,
   "id": "e11510d4-0a1b-4bf0-9ffe-2acdbb12abbd",
   "metadata": {
    "tags": []
   },
   "outputs": [
    {
     "name": "stdout",
     "output_type": "stream",
     "text": [
      "0.979011423996075\n"
     ]
    }
   ],
   "source": [
    "print(delta3.subs(theta,0.70))"
   ]
  },
  {
   "cell_type": "markdown",
   "id": "432236f9-ba78-44b0-877f-1a3d4cda19d9",
   "metadata": {},
   "source": [
    "Si el verdadero valor de $\\theta$ es $0.7$ entonces aceptariamos $H_1$ correctamente aproximadamente el $98\\%$ del tiempo."
   ]
  },
  {
   "cell_type": "code",
   "execution_count": 9,
   "id": "ef531c0c-d53e-4d47-a287-38ed33915151",
   "metadata": {
    "tags": []
   },
   "outputs": [],
   "source": [
    "from scipy import stats"
   ]
  },
  {
   "cell_type": "code",
   "execution_count": 10,
   "id": "ff017e22-9fb0-48a2-9f10-8d02115304ed",
   "metadata": {
    "tags": []
   },
   "outputs": [
    {
     "name": "stdout",
     "output_type": "stream",
     "text": [
      "0.019\n"
     ]
    }
   ],
   "source": [
    "rv = stats.bernoulli(0.5) # valor verdadero p = 0.5\n",
    "print(sum(rv.rvs((1000,100)).sum(axis=1)>60)/1000.) #P_FP"
   ]
  },
  {
   "cell_type": "markdown",
   "id": "7006e17e-698a-4c3a-b4b3-46ea51fd715c",
   "metadata": {},
   "source": [
    "# Pruebas de razón de verosimilitud\n",
    "\n",
    "**Def 4.**\n",
    "\n",
    "Una prueba $\\phi$ basada en un vector aleatorio $\\underline{X}$ cuya función de distribución de probabilidad es $f(\\underline{x}; \\theta)$ para probar:\n",
    "$$H_0: \\theta = \\theta_0$$\n",
    "vs.\n",
    "$$H_1: \\theta = \\theta_1,$$\n",
    "es una prueba de razón de verosimilitudese si existe un número $k \\in \\mathbb{R}^{+}$ y un número $c \\in [0,1]$ tal que dicha prueba:\n",
    "- rechaza $H_0$, cuando, $\\lambda(\\underline{x}) < k$;\n",
    "- rechaza $H_0$, con probabilidad $c$, si, $\\lambda(\\underline{x}) = k$;\n",
    "- no rechaza $H_0$, cuando, $\\lambda(\\underline{x}) > k$;\n",
    "siendo\n",
    "$$ \\lambda(\\underline{x}) = \\frac{L(\\theta_{0};\\underline{x})}{L(\\theta_{1};\\underline{x})}.$$\n",
    "\n",
    "\n",
    "En otras palabras\n",
    "\\begin{equation}\n",
    "\\phi(\\underline{X}) = \n",
    "\\begin{cases}\n",
    "    1 & \\text{si }~~ \\lambda(\\underline{X}) < k, \\\\\n",
    "    c & \\text{si }~~ \\lambda(\\underline{X}) = k, \\\\\n",
    "    0 & \\text{si }~~ \\lambda(\\underline{X}) > k.\n",
    "\\end{cases}\n",
    "\\end{equation}\n",
    "\n",
    "---\n",
    "***Observación:*** El tamaño de la prueba $\\phi$ es:\n",
    "$$\\delta_{\\phi}(\\theta) = \\mathbb{P}(\\phi(\\underline{X}) = 1 \\,|\\, \\theta)$$"
   ]
  },
  {
   "cell_type": "markdown",
   "id": "a705de6f-3d7c-4b6f-ac2e-4c4d69fc1975",
   "metadata": {},
   "source": [
    "**Lema (Neyman-Pearson).**\n",
    "\n",
    "Supóngase que el vector de observaciones $\\underline{X}$ tiene densidad $f(\\underline{x}; \\theta)$. Para probar:\n",
    "$$H_0: \\theta = \\theta_0$$\n",
    "vs.\n",
    "$$H_1: \\theta = \\theta_1,$$\n",
    "existe una prueba que es la más potente de tamaño $\\alpha \\in [0,1]$, la cual es de la forma:\n",
    "\\begin{equation}\n",
    "\\phi(\\underline{X}) = \n",
    "\\begin{cases}\n",
    "    1 & \\text{si }~~ \\lambda(\\underline{X}) < k, \\\\\n",
    "    c & \\text{si }~~ \\lambda(\\underline{X}) = k, \\\\\n",
    "    0 & \\text{si }~~ \\lambda(\\underline{X}) > k;\n",
    "\\end{cases}\n",
    "\\end{equation}\n",
    "en donde $c$ y $k$ son tales que,\n",
    "$$\\mathbb{E}(\\phi(\\underline{X})) = \\alpha.$$"
   ]
  },
  {
   "cell_type": "markdown",
   "id": "3d0292b1-2e6a-4c50-939d-42a887d5128d",
   "metadata": {},
   "source": [
    "## Ejemplo 3\n",
    "\n",
    "Se quiere probar si una observación $X$ es una señal con o sin ruido. Es decir $X \\sim N(\\theta,1)$ y queremos probar las hipotesis:\n",
    "\n",
    "$$H_0: \\theta = 0$$\n",
    "vs.\n",
    "$$H_1: \\theta = 1.$$\n",
    "\n",
    "La razón de verosimilitudes es:\n",
    "\n",
    "$$\\lambda(x) = \\frac{\\frac{1}{\\sqrt{2\\pi}}exp(-\\frac{1}{2}x^2)}{\\frac{1}{\\sqrt{2\\pi}}exp(-\\frac{1}{2}(x-1)^2)} = exp(\\frac{1}{2} - x)$$\n",
    "\n",
    "La función de prueba es\n",
    "\\begin{equation}\n",
    "\\phi(\\underline{X}) = \n",
    "\\begin{cases}\n",
    "    1 & \\text{si }~~ \\lambda(\\underline{x}) \\leq k, \\\\\n",
    "    0 & \\text{si }~~ \\lambda(\\underline{x}) > k;\n",
    "\\end{cases}\n",
    "\\end{equation}\n",
    "\n",
    "\n",
    "su tamaño de prueba es\n",
    "\n",
    "\\begin{align}\n",
    "\\delta_{\\phi}(\\theta) &= \\mathbb{P}(\\lambda(\\underline{X}) \\leq k)\\\\\n",
    "&= \\mathbb{P}(exp(\\frac{1}{2} - X) \\leq k)\\\\\n",
    "&= \\mathbb{P}(\\frac{1}{2} - X \\leq log(k))\\\\\n",
    "&= \\mathbb{P}(X \\geq \\frac{1}{2} - log(k)).\n",
    "\\end{align}\n",
    "\n",
    "Si queremos que la prueba sea de tamaño $\\alpha = 0.01$"
   ]
  },
  {
   "cell_type": "code",
   "execution_count": 11,
   "id": "366a893a-367f-443e-923a-5d2fb05db6f8",
   "metadata": {
    "tags": []
   },
   "outputs": [
    {
     "name": "stdout",
     "output_type": "stream",
     "text": [
      "exp(1/2 - x)\n"
     ]
    }
   ],
   "source": [
    "s = S.stats.Normal('s',1,1) # signal+noise\n",
    "n = S.stats.Normal('n',0,1) # noise\n",
    "x = S.symbols('x',real=True)\n",
    "L = S.stats.density(n)(x)/S.stats.density(s)(x)\n",
    "print(S.simplify(L)) #razón de verosimilitud"
   ]
  },
  {
   "cell_type": "code",
   "execution_count": 12,
   "id": "274cd424-fe6a-475d-a358-973d786c9cc8",
   "metadata": {
    "tags": []
   },
   "outputs": [],
   "source": [
    "k = S.symbols('k',positive=True) # define gamma\n",
    "p = S.integrate(S.stats.density(n)(x), (x,S.Rational(1,2)-S.log(k),S.oo))"
   ]
  },
  {
   "cell_type": "code",
   "execution_count": 13,
   "id": "78995d3c-dbfa-4f9f-8289-8b06b39dfdce",
   "metadata": {
    "tags": []
   },
   "outputs": [
    {
     "name": "stdout",
     "output_type": "stream",
     "text": [
      "sqrt(2)*sqrt(k)*(-sqrt(2)*pi*(1 - 2*log(k))*exp((1 - 2*log(k))**2/8)*erf(sqrt(2)*(1 - 2*log(k))/4)/4 + sqrt(2)*pi*(1 - 2*log(k))*exp((1 - 2*log(k))**2/8)/4)*exp(-log(k)**2/2 - 1/8)/(pi*(1 - 2*log(k)))\n"
     ]
    }
   ],
   "source": [
    "print(p)"
   ]
  },
  {
   "cell_type": "code",
   "execution_count": 14,
   "id": "b305402d-cd48-4539-acef-b092834c9458",
   "metadata": {
    "tags": []
   },
   "outputs": [
    {
     "name": "stdout",
     "output_type": "stream",
     "text": [
      "0.161000489433794\n"
     ]
    }
   ],
   "source": [
    "print(S.nsolve(p-0.01,1.0)) #1.0 es un valor inicial para comenzar a buscar la solución"
   ]
  },
  {
   "cell_type": "markdown",
   "id": "8efca456-5b0c-4cff-a482-2e5bae10f401",
   "metadata": {},
   "source": [
    "Entonces debe de ser que $k \\approx 0.161$"
   ]
  },
  {
   "cell_type": "code",
   "execution_count": 15,
   "id": "a754e70a-0016-4973-9658-7ac119502d62",
   "metadata": {
    "tags": []
   },
   "outputs": [
    {
     "data": {
      "text/plain": [
       "2.326350913997674"
      ]
     },
     "execution_count": 15,
     "metadata": {},
     "output_type": "execute_result"
    }
   ],
   "source": [
    "1/2 - np.log(0.161)"
   ]
  },
  {
   "cell_type": "markdown",
   "id": "d28af402-5ab5-4846-93be-328634636a09",
   "metadata": {},
   "source": [
    "Por lo tanto aceptariamos $H_1$ si $X \\geq 2.3263$"
   ]
  },
  {
   "cell_type": "markdown",
   "id": "5dc56402-513e-4f43-bef1-e6b47325426c",
   "metadata": {},
   "source": [
    "# Prueba tipo Wald\n",
    "\n",
    "**Def 5.**\n",
    "\n",
    "Sea $\\underline{X} = (X_1, X_2, \\dots, X_n)$ una m.a. iid de una distribución $f(\\cdot; \\theta)$. Sea $\\hat{\\theta}$ un estimador de $\\theta$ basado en la m.a $\\underline{X}$. Una función de prueba $\\phi$ es una prueba tipo Wald de tamaño $\\alpha$ para las hipótesis:\n",
    "$$H_0: \\theta = \\theta_0$$\n",
    "vs.\n",
    "$$H_1: \\theta \\neq \\theta_0,$$\n",
    "si\n",
    "\n",
    "\\begin{equation}\n",
    "\\phi(\\underline{X}) = \n",
    "\\begin{cases}\n",
    "    1 & \\text{si }~~ T(\\underline{X}) \\geq c, \\\\\n",
    "    0 & \\text{si }~~ T(\\underline{X}) < c;\n",
    "\\end{cases}\n",
    "\\end{equation}\n",
    "siendo $c$ tal que\n",
    "$$\\delta_{\\phi}(\\theta) = \\mathbb{P}(T(\\underline{X}) \\geq c) = \\alpha;$$\n",
    "y $T$ es el estadístico:\n",
    "$$T = \\frac{(\\hat{\\theta} - \\theta_{0})^2}{\\hat{var}(\\hat{\\theta})}$$"
   ]
  },
  {
   "cell_type": "markdown",
   "id": "93e9c668-4657-463b-bb51-be60f47c2135",
   "metadata": {
    "tags": []
   },
   "source": [
    "## Ejemplo 4\n",
    "\n",
    "Regresamos al ejemplo del lanzamiento de la moneda. Si consideramos $n$ lazamientos de la moneda, estimamos la probabilidad de que la moneda caiga cara como $\\hat{\\theta} = k/n$, siendo $k$ el número de caras obtenidas en la muestra.\n",
    "\n",
    "Probamos la hipótesis $H_0: \\theta = \\theta_0$ mediante el estadístico\n",
    "$$T' = \\frac{\\hat{\\theta} - \\theta_{0}}{\\sqrt{\\hat{\\theta}(1-\\hat{\\theta})/n}}$$\n",
    "\n",
    "Como ejemplo realizamos la siguiente simulación:"
   ]
  },
  {
   "cell_type": "code",
   "execution_count": 16,
   "id": "048def82-75fe-4ade-9eb2-2d51a5074592",
   "metadata": {
    "tags": []
   },
   "outputs": [],
   "source": [
    "import scipy"
   ]
  },
  {
   "cell_type": "code",
   "execution_count": 17,
   "id": "3aaf41fb-8f92-4b05-aa5d-a838a61d7582",
   "metadata": {
    "tags": []
   },
   "outputs": [
    {
     "name": "stdout",
     "output_type": "stream",
     "text": [
      "False\n"
     ]
    }
   ],
   "source": [
    "theta0 = 0.5 # H0\n",
    "k=np.random.binomial(1000,0.3) #theta verdadero 0.3\n",
    "theta_hat = k/1000\n",
    "\n",
    "T = (theta_hat-theta0)/np.sqrt(theta_hat*(1-theta_hat)/1000)\n",
    "\n",
    "c = scipy.stats.norm().ppf(0.05)\n",
    "\n",
    "print(T**2 < c**2)"
   ]
  },
  {
   "cell_type": "markdown",
   "id": "f0335f97-d731-4c90-9c76-8b8e86c97ec2",
   "metadata": {
    "tags": []
   },
   "source": [
    "Por lo tanto rechazamos $H_0$."
   ]
  },
  {
   "cell_type": "markdown",
   "id": "7cf51e2e-a844-4b4c-8381-a3606dbeeb92",
   "metadata": {},
   "source": [
    "# Algunas referencias\n",
    "\n",
    "- Python for Probability, Statistics, and Machine Learning - José Unpingco\n",
    "- Statistics for Mathematicians - Victor M. Panaretos\n",
    "- A Graduate Course on Statistical Inference - Bing Li, G. Jogesh Babu"
   ]
  },
  {
   "cell_type": "code",
   "execution_count": null,
   "id": "c9f2557d-4144-49c2-85f6-7436715ddf10",
   "metadata": {},
   "outputs": [],
   "source": []
  }
 ],
 "metadata": {
  "kernelspec": {
   "display_name": "Python 3 (ipykernel)",
   "language": "python",
   "name": "python3"
  },
  "language_info": {
   "codemirror_mode": {
    "name": "ipython",
    "version": 3
   },
   "file_extension": ".py",
   "mimetype": "text/x-python",
   "name": "python",
   "nbconvert_exporter": "python",
   "pygments_lexer": "ipython3",
   "version": "3.11.5"
  }
 },
 "nbformat": 4,
 "nbformat_minor": 5
}
